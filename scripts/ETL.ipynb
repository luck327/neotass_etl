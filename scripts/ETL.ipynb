{
 "cells": [
  {
   "cell_type": "code",
   "execution_count": 11,
   "metadata": {},
   "outputs": [
    {
     "name": "stdout",
     "output_type": "stream",
     "text": [
      "Erro: Arquivo não encontrado no caminho C://Users//win 10//Desktop//neotas_etl//data//registros_oportunidades.json\n"
     ]
    }
   ],
   "source": [
    "import os\n",
    "import json\n",
    "import pandas as pd\n",
    "\n",
    "# Caminho absoluto do arquivo JSON (Atenção à barra invertida dupla `\\\\` para Windows)\n",
    "caminho_json = r\"C://Users//win 10//Desktop//neotas_etl//data//registros_oportunidades.json\"\n",
    "\n",
    "# Verificar se o arquivo existe antes de tentar abrir\n",
    "if os.path.exists(caminho_json):\n",
    "    with open(caminho_json, \"r\", encoding=\"utf-8\") as file:\n",
    "        oportunidades = json.load(file)\n",
    "\n",
    "    # Convertendo para DataFrame\n",
    "    df_oportunidades = pd.DataFrame(oportunidades)\n",
    "\n",
    "    # Exibir as primeiras linhas do DataFrame\n",
    "    print(df_oportunidades.head())\n",
    "else:\n",
    "    print(f\"Erro: Arquivo não encontrado no caminho {caminho_json}\")\n"
   ]
  },
  {
   "cell_type": "code",
   "execution_count": 12,
   "metadata": {},
   "outputs": [
    {
     "name": "stdout",
     "output_type": "stream",
     "text": [
      "O arquivo existe? False\n"
     ]
    }
   ],
   "source": [
    "import os\n",
    "\n",
    "caminho_json = r\"C:\\Users\\win 10\\Desktop\\neotas_etl\\data\\registros_oportunidades.json\"\n",
    "\n",
    "# Testar se o caminho existe\n",
    "print(\"O arquivo existe?\", os.path.exists(caminho_json))\n"
   ]
  },
  {
   "cell_type": "code",
   "execution_count": 13,
   "metadata": {},
   "outputs": [
    {
     "name": "stdout",
     "output_type": "stream",
     "text": [
      "A pasta não existe!\n"
     ]
    }
   ],
   "source": [
    "import os\n",
    "\n",
    "caminho_pasta = r\"C:\\Users\\win 10\\Desktop\\neotas_etl\\data\"\n",
    "\n",
    "if os.path.exists(caminho_pasta):\n",
    "    print(\"Arquivos na pasta:\", os.listdir(caminho_pasta))\n",
    "else:\n",
    "    print(\"A pasta não existe!\")\n"
   ]
  }
 ],
 "metadata": {
  "kernelspec": {
   "display_name": "Python 3",
   "language": "python",
   "name": "python3"
  },
  "language_info": {
   "codemirror_mode": {
    "name": "ipython",
    "version": 3
   },
   "file_extension": ".py",
   "mimetype": "text/x-python",
   "name": "python",
   "nbconvert_exporter": "python",
   "pygments_lexer": "ipython3",
   "version": "3.13.2"
  }
 },
 "nbformat": 4,
 "nbformat_minor": 2
}
